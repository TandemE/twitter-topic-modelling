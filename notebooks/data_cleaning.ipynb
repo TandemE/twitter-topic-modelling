{
 "cells": [
  {
   "cell_type": "code",
   "execution_count": 1,
   "metadata": {},
   "outputs": [],
   "source": [
    "import numpy as np\n",
    "import pandas as pd\n",
    "import os\n",
    "import json\n",
    "import sys"
   ]
  },
  {
   "cell_type": "code",
   "execution_count": 2,
   "metadata": {},
   "outputs": [
    {
     "data": {
      "text/plain": [
       "[('np', 80), ('pd', 80)]"
      ]
     },
     "execution_count": 2,
     "metadata": {},
     "output_type": "execute_result"
    }
   ],
   "source": [
    "import sys\n",
    "\n",
    "# These are the usual ipython objects, including this one you are creating\n",
    "ipython_vars = ['In', 'Out', 'exit', 'quit', 'get_ipython', 'ipython_vars']\n",
    "\n",
    "# Get a sorted list of the objects and their sizes\n",
    "sorted([(x, sys.getsizeof(globals().get(x))) for x in dir() if not x.startswith('_') and x not in sys.modules and x not in ipython_vars], key=lambda x: x[1], reverse=True)"
   ]
  },
  {
   "cell_type": "code",
   "execution_count": 6,
   "metadata": {},
   "outputs": [
    {
     "name": "stdout",
     "output_type": "stream",
     "text": [
      "Loading tweets from ../data/tweets_maga\n",
      "Successfully loaded 14000 tweets from 14 files.\n"
     ]
    }
   ],
   "source": [
    "dir_path = '../data/tweets_maga'\n",
    "data = pd.DataFrame()\n",
    "\n",
    "print('Loading tweets from', dir_path)\n",
    "file_names = [file for file in os.listdir(dir_path) if os.path.isfile(os.path.join(dir_path, file))]\n",
    "for file_name in file_names:\n",
    "    file_path = dir_path + '/' + file_name\n",
    "    with open(file_path, 'r', encoding='utf-8') as file:\n",
    "        tweets = pd.read_json(file)\n",
    "        data = pd.concat([data, tweets])\n",
    "        \n",
    "print('Successfully loaded {} tweets from {} files.'.format(len(data), len(file_names)))"
   ]
  },
  {
   "cell_type": "code",
   "execution_count": 7,
   "metadata": {},
   "outputs": [
    {
     "data": {
      "text/html": [
       "<div>\n",
       "<style scoped>\n",
       "    .dataframe tbody tr th:only-of-type {\n",
       "        vertical-align: middle;\n",
       "    }\n",
       "\n",
       "    .dataframe tbody tr th {\n",
       "        vertical-align: top;\n",
       "    }\n",
       "\n",
       "    .dataframe thead th {\n",
       "        text-align: right;\n",
       "    }\n",
       "</style>\n",
       "<table border=\"1\" class=\"dataframe\">\n",
       "  <thead>\n",
       "    <tr style=\"text-align: right;\">\n",
       "      <th></th>\n",
       "      <th>author_name</th>\n",
       "      <th>created_at</th>\n",
       "      <th>id</th>\n",
       "      <th>text</th>\n",
       "    </tr>\n",
       "  </thead>\n",
       "  <tbody>\n",
       "    <tr>\n",
       "      <th>0</th>\n",
       "      <td>RealPatriot</td>\n",
       "      <td>2019-10-01 00:37:21</td>\n",
       "      <td>1178831229963116544</td>\n",
       "      <td>@realDonaldTrump I’m confused. Is this a new “...</td>\n",
       "    </tr>\n",
       "    <tr>\n",
       "      <th>1</th>\n",
       "      <td>Teresa murray⭐⭐⭐ CIA #fakewistleblower 😡</td>\n",
       "      <td>2019-10-01 00:37:20</td>\n",
       "      <td>1178831224191832067</td>\n",
       "      <td>@realDonaldTrump @Hyundai @Kia @Aptiv I'm not ...</td>\n",
       "    </tr>\n",
       "    <tr>\n",
       "      <th>2</th>\n",
       "      <td>GOPKnowsBest</td>\n",
       "      <td>2019-10-01 00:37:17</td>\n",
       "      <td>1178831213571629057</td>\n",
       "      <td>@WA_Silenced_Maj @realDonaldTrump You are the ...</td>\n",
       "    </tr>\n",
       "    <tr>\n",
       "      <th>3</th>\n",
       "      <td>Peter Dunbar</td>\n",
       "      <td>2019-10-01 00:37:15</td>\n",
       "      <td>1178831204151226368</td>\n",
       "      <td>It is amazing to watch @RudyGiuliani throw his...</td>\n",
       "    </tr>\n",
       "    <tr>\n",
       "      <th>4</th>\n",
       "      <td>AtlanticCity Deplorable</td>\n",
       "      <td>2019-10-01 00:37:04</td>\n",
       "      <td>1178831160635514880</td>\n",
       "      <td>@w_terrence @realDonaldTrump WHOOOOOHOOOOO! I’...</td>\n",
       "    </tr>\n",
       "  </tbody>\n",
       "</table>\n",
       "</div>"
      ],
      "text/plain": [
       "                                author_name          created_at  \\\n",
       "0                               RealPatriot 2019-10-01 00:37:21   \n",
       "1  Teresa murray⭐⭐⭐ CIA #fakewistleblower 😡 2019-10-01 00:37:20   \n",
       "2                              GOPKnowsBest 2019-10-01 00:37:17   \n",
       "3                              Peter Dunbar 2019-10-01 00:37:15   \n",
       "4                   AtlanticCity Deplorable 2019-10-01 00:37:04   \n",
       "\n",
       "                    id                                               text  \n",
       "0  1178831229963116544  @realDonaldTrump I’m confused. Is this a new “...  \n",
       "1  1178831224191832067  @realDonaldTrump @Hyundai @Kia @Aptiv I'm not ...  \n",
       "2  1178831213571629057  @WA_Silenced_Maj @realDonaldTrump You are the ...  \n",
       "3  1178831204151226368  It is amazing to watch @RudyGiuliani throw his...  \n",
       "4  1178831160635514880  @w_terrence @realDonaldTrump WHOOOOOHOOOOO! I’...  "
      ]
     },
     "execution_count": 7,
     "metadata": {},
     "output_type": "execute_result"
    }
   ],
   "source": [
    "data.head()"
   ]
  },
  {
   "cell_type": "code",
   "execution_count": null,
   "metadata": {},
   "outputs": [],
   "source": []
  }
 ],
 "metadata": {
  "hide_input": false,
  "kernelspec": {
   "display_name": "Python 3",
   "language": "python",
   "name": "python3"
  },
  "language_info": {
   "codemirror_mode": {
    "name": "ipython",
    "version": 3
   },
   "file_extension": ".py",
   "mimetype": "text/x-python",
   "name": "python",
   "nbconvert_exporter": "python",
   "pygments_lexer": "ipython3",
   "version": "3.7.3"
  },
  "toc": {
   "base_numbering": 1,
   "nav_menu": {},
   "number_sections": true,
   "sideBar": true,
   "skip_h1_title": true,
   "title_cell": "Table of Contents",
   "title_sidebar": "Contents",
   "toc_cell": false,
   "toc_position": {},
   "toc_section_display": true,
   "toc_window_display": true
  }
 },
 "nbformat": 4,
 "nbformat_minor": 2
}
