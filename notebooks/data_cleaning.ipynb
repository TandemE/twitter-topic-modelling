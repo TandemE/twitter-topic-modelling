{
 "cells": [
  {
   "cell_type": "markdown",
   "metadata": {},
   "source": [
    "# Clean that twitter data!\n",
    "\n",
    "Use of the \"Table of Contents\" nbextension is highly recommended."
   ]
  },
  {
   "cell_type": "markdown",
   "metadata": {},
   "source": [
    "### Basic imports, settings"
   ]
  },
  {
   "cell_type": "code",
   "execution_count": 1,
   "metadata": {},
   "outputs": [],
   "source": [
    "import numpy as np\n",
    "import pandas as pd\n",
    "import nltk\n",
    "import os\n",
    "import json\n",
    "import sys\n",
    "\n",
    "pd.set_option('display.max_columns', 200)\n",
    "pd.set_option('display.max_colwidth',100)"
   ]
  },
  {
   "cell_type": "markdown",
   "metadata": {},
   "source": [
    "### Check variables in memory"
   ]
  },
  {
   "cell_type": "code",
   "execution_count": 2,
   "metadata": {},
   "outputs": [
    {
     "data": {
      "text/plain": [
       "[('np', 80), ('pd', 80)]"
      ]
     },
     "execution_count": 2,
     "metadata": {},
     "output_type": "execute_result"
    }
   ],
   "source": [
    "import sys\n",
    "\n",
    "# These are the usual ipython objects, including this one you are creating\n",
    "ipython_vars = ['In', 'Out', 'exit', 'quit', 'get_ipython', 'ipython_vars']\n",
    "\n",
    "# Get a sorted list of the objects and their sizes\n",
    "sorted([(x, sys.getsizeof(globals().get(x))) for x in dir() if not x.startswith('_') and x not in sys.modules and x not in ipython_vars], key=lambda x: x[1], reverse=True)"
   ]
  },
  {
   "cell_type": "markdown",
   "metadata": {},
   "source": [
    "## Read data"
   ]
  },
  {
   "cell_type": "code",
   "execution_count": 3,
   "metadata": {},
   "outputs": [
    {
     "name": "stdout",
     "output_type": "stream",
     "text": [
      "Loading tweets from ../data/tweets_maga\n",
      "Successfully loaded 16000 tweets from 16 files.\n"
     ]
    }
   ],
   "source": [
    "dir_path = '../data/tweets_maga'\n",
    "data = pd.DataFrame()\n",
    "\n",
    "print('Loading tweets from', dir_path)\n",
    "file_names = [file for file in os.listdir(dir_path) if os.path.isfile(os.path.join(dir_path, file))]\n",
    "for file_name in file_names:\n",
    "    file_path = dir_path + '/' + file_name\n",
    "    with open(file_path, 'r', encoding='utf-8') as file:\n",
    "        tweets = pd.read_json(file)\n",
    "        data = pd.concat([data, tweets], ignore_index=True)\n",
    "        \n",
    "print('Successfully loaded {} tweets from {} files.'.format(len(data), len(file_names)))"
   ]
  },
  {
   "cell_type": "code",
   "execution_count": 16,
   "metadata": {
    "scrolled": true
   },
   "outputs": [
    {
     "data": {
      "text/plain": [
       "0         i’m confused. is this a new “greatest” or the same as the old? all of your scandals are hard to...\n",
       "1                                                                       i'm not yet tired of winning, sir!  \n",
       "2          you are the true patriots!  if antifa physically assaults you in any way you can legally defen...\n",
       "3        it is amazing to watch  throw his reputation down the toilet. my guess  has something on him, or...\n",
       "4                                                                   whooooohooooo! i’m so excited for you!  \n",
       "5         lied about wikileaks in \\n\\nthe grand-jury redactions in special counsel  report show that pres...\n",
       "6                                                           never polled and don't know anyone that has. \\n \n",
       "7        \\n\\n needs to get off their ass and put their foot down!\\n\\ndems/antifa (same thing) crossed the...\n",
       "8                                                                                             beautiful!\\n\\n\n",
       "9                 did  mean this october? \\nmaybe  is onto something regarding this horrible excuse 👇👇👇     \n",
       "10                                                                       that’s not how it works, fatso. \\n \n",
       "11                                        trump: farmers who want me to end my trade war are 'dumb people'  \n",
       "12               duke university’s student government rejects christian organization, citing lgbt policy    \n",
       "13                                  thank you for the ride!!\\nfollowing all, please follow back, thanks :)\\n\n",
       "14                                                                                              wtf? wow!   \n",
       "15          ummm dumbo, i dont see the gop taking a line of credit like your dnc. stop supporting radical...\n",
       "16           it wouldn't make a difference who they faced if all those lazy registered  voters who didn't...\n",
       "17                                                                                          congratulations \n",
       "18                        we will never agree on this, seeing as how you've never been a leo.  and godspeed.\n",
       "19        sure flake had aspirations of becoming potus. at one time. he had the kennedyish looks. but wha...\n",
       "20        if you really understand what has happened here, trump became the real whistleblower during his...\n",
       "21                                                                            is the only way to stop this. \n",
       "22                                                                                    is still an idiot!    \n",
       "23                                                                           strong. fearless. leader. 🇺🇸   \n",
       "24           well you guys have done nothing but attack, don’t blame administration at all for not inviti...\n",
       "25        this was beautiful power tie. i actually pinned it to my timeline that's how much i like it. ve...\n",
       "26        imagine a day when a person accused does not get to meet their accuser, or even know who the ac...\n",
       "27                                                               hey    your leader has spoken about you! 😜 \n",
       "28                                                                         and the witch hunt will be over. \n",
       "29       . ⬇️  must vote red down ballot ⬇️ we must get rid of the 🐀 ⬇️  and hate america    vote red vot...\n",
       "                                                        ...                                                 \n",
       "15970    we need to start calling our representatives and tell them to cut the crap. we’re sick and tired...\n",
       "15971                                              🎵that's the way they became the shady bunch!🎵\\n\\n\\n\\n\\n\\n\n",
       "15972     hey \\neveryone, including you, knows  was parodying the call tho it was remarkably true.\\nyou'r...\n",
       "15973                     deniro words makes him sound like a mobster, but his actions seem to confirm it!  \n",
       "15974                                                                                        .    \\n\\nread: \n",
       "15975                                          what ? so this is  ? lol. clearly america bows to russia now \n",
       "15976    love it when racist  trolls like  block you for pointing out their hateful ignorance. \\n\\nso... ...\n",
       "15977    not just evangelicals. the fury felt over this fake impeachment is off the charts. they have bee...\n",
       "15978    how many  are needed?     \\n\\ntrump pressed australian leader to help barr investigate mueller i...\n",
       "15979     you're a dishonest person and a disgrace to california.  you make up lies and swear you have ev...\n",
       "15980                                                                             about damn time!!\\n❤️🇺🇸   \n",
       "15981                                               donald trump video taped  and  having sex!  just sick!  \n",
       "15982                               judicial watch - judicial watch sues for biden-ukraine scandal docs -   \n",
       "15983                                                                                best president ever!   \n",
       "15984    is the  going to report this or burry it?          hoax: girl who accused white boys of cutting ...\n",
       "15985      so brennan is now calling for his flying monkeys?..this is obviously getting too close for com...\n",
       "15986                      obama has sanitized his entire life, why? \\nonly reason is to hide his past!  ...\n",
       "15987                    damn straight  my president   \\nrt    yes, we want 4 more years of president trump!\n",
       "15988                                                              haha  is about to get locked up ... 😂    \n",
       "15989                                                                               thank you mr. president \n",
       "15990    hey \\neveryone, including you, knows  was parodying the call though it was remarkably true.\\nyou...\n",
       "15991     thank you president trump for all you're doing to fight for the people. especially the children...\n",
       "15992     .\\n\\nin   is king of the \\nand he gets his  &amp;  from people in   \\n ---&gt;  (\\n\\n\\n\\n \\n\\n ...\n",
       "15993     being reported that-mike pompeo present when trump was on phone w/ ukraine potus breaking the l...\n",
       "15994    impeaching this man is the only way to save our democracy! if you dont know it you are part of t...\n",
       "15995                                                                                         not a chance  \n",
       "15996    unhinged robert de niro explodes on live tv in obscene, vile anti-trump rant — cnn host cuts to ...\n",
       "15997                                                       i think we can all see how corrupt  people are! \n",
       "15998                 stay strong  the fl cuban deplorable’s have your back! we are the silent majority!    \n",
       "15999    ok patriots let's get the 100x votes needed. don't forget to share and go to email for verificat...\n",
       "Name: text, Length: 16000, dtype: object"
      ]
     },
     "execution_count": 16,
     "metadata": {},
     "output_type": "execute_result"
    }
   ],
   "source": [
    "original_text = data.text\n",
    "original_text"
   ]
  },
  {
   "cell_type": "markdown",
   "metadata": {},
   "source": [
    "## Clean data"
   ]
  },
  {
   "cell_type": "markdown",
   "metadata": {},
   "source": [
    "### Lower case, strip"
   ]
  },
  {
   "cell_type": "code",
   "execution_count": 5,
   "metadata": {},
   "outputs": [],
   "source": [
    "# everything in lower case, strip\n",
    "data['text'] = data.text.str.lower()\n",
    "data['text'] = data.text.str.strip()"
   ]
  },
  {
   "cell_type": "markdown",
   "metadata": {},
   "source": [
    "### Remove tags, usernames, hyperlinks"
   ]
  },
  {
   "cell_type": "code",
   "execution_count": 6,
   "metadata": {},
   "outputs": [],
   "source": [
    "# remove every #tag \n",
    "data['text'] = data.text.str.replace(r'#\\S*', '')"
   ]
  },
  {
   "cell_type": "code",
   "execution_count": 7,
   "metadata": {},
   "outputs": [],
   "source": [
    "# remove every @username\n",
    "data['text'] = data.text.str.replace(r'@\\S*', '')"
   ]
  },
  {
   "cell_type": "code",
   "execution_count": 8,
   "metadata": {},
   "outputs": [],
   "source": [
    "# remove links\n",
    "data['text'] = data.text.str.replace(r'http(\\S)*', '')"
   ]
  },
  {
   "cell_type": "markdown",
   "metadata": {},
   "source": [
    "### Remove punctuation"
   ]
  },
  {
   "cell_type": "code",
   "execution_count": 71,
   "metadata": {},
   "outputs": [
    {
     "data": {
      "text/plain": [
       "0       NaN\n",
       "1       NaN\n",
       "2       NaN\n",
       "3       NaN\n",
       "4       NaN\n",
       "5       NaN\n",
       "6       NaN\n",
       "7       NaN\n",
       "8       NaN\n",
       "9       NaN\n",
       "10      NaN\n",
       "11      NaN\n",
       "12      NaN\n",
       "13      NaN\n",
       "14      NaN\n",
       "15      NaN\n",
       "16      NaN\n",
       "17      NaN\n",
       "18      NaN\n",
       "19      NaN\n",
       "20      NaN\n",
       "21      NaN\n",
       "22      NaN\n",
       "23      NaN\n",
       "24      NaN\n",
       "25      NaN\n",
       "26      NaN\n",
       "27      NaN\n",
       "28      NaN\n",
       "29      NaN\n",
       "         ..\n",
       "15970   NaN\n",
       "15971   NaN\n",
       "15972   NaN\n",
       "15973   NaN\n",
       "15974   NaN\n",
       "15975   NaN\n",
       "15976   NaN\n",
       "15977   NaN\n",
       "15978   NaN\n",
       "15979   NaN\n",
       "15980   NaN\n",
       "15981   NaN\n",
       "15982   NaN\n",
       "15983   NaN\n",
       "15984   NaN\n",
       "15985   NaN\n",
       "15986   NaN\n",
       "15987   NaN\n",
       "15988   NaN\n",
       "15989   NaN\n",
       "15990   NaN\n",
       "15991   NaN\n",
       "15992   NaN\n",
       "15993   NaN\n",
       "15994   NaN\n",
       "15995   NaN\n",
       "15996   NaN\n",
       "15997   NaN\n",
       "15998   NaN\n",
       "15999   NaN\n",
       "Name: text, Length: 16000, dtype: float64"
      ]
     },
     "execution_count": 71,
     "metadata": {},
     "output_type": "execute_result"
    }
   ],
   "source": [
    "data.text.str.encode('utf-8').str.replace(r'\\\\.* ', '')"
   ]
  },
  {
   "cell_type": "markdown",
   "metadata": {},
   "source": [
    "### Tokenize"
   ]
  },
  {
   "cell_type": "code",
   "execution_count": 65,
   "metadata": {},
   "outputs": [
    {
     "data": {
      "text/plain": [
       "' .\\n\\nin   is king of the \\nand he gets his  &amp;  from people in   \\n ---&gt;  (\\n\\n\\n\\n \\n\\n \\n\\n\\n '"
      ]
     },
     "execution_count": 65,
     "metadata": {},
     "output_type": "execute_result"
    }
   ],
   "source": [
    "data.text[15992]"
   ]
  },
  {
   "cell_type": "code",
   "execution_count": 63,
   "metadata": {},
   "outputs": [],
   "source": [
    "from nltk.tokenize import TweetTokenizer\n",
    "\n",
    "# strip_handles because I'm not sure what it does (maybe removes usernames?),\n",
    "# reduce_len because I want 'waaaaaay' to be equal to 'waaay'\n",
    "tokenizer = TweetTokenizer(strip_handles=True, reduce_len=True)"
   ]
  },
  {
   "cell_type": "code",
   "execution_count": 18,
   "metadata": {
    "scrolled": true
   },
   "outputs": [
    {
     "data": {
      "text/plain": [
       "0        [i, ’, m, confused, ., is, this, a, new, “, greatest, ”, or, the, same, as, the, old, ?, all, of...\n",
       "1                                                             [i'm, not, yet, tired, of, winning, ,, sir, !]\n",
       "2        [you, are, the, true, patriots, !, if, antifa, physically, assaults, you, in, any, way, you, can...\n",
       "3        [it, is, amazing, to, watch, throw, his, reputation, down, the, toilet, ., my, guess, has, somet...\n",
       "4                                                          [whooohooo, !, i, ’, m, so, excited, for, you, !]\n",
       "5        [lied, about, wikileaks, in, the, grand-jury, redactions, in, special, counsel, report, show, th...\n",
       "6                                                    [never, polled, and, don't, know, anyone, that, has, .]\n",
       "7        [needs, to, get, off, their, ass, and, put, their, foot, down, !, dems, /, antifa, (, same, thin...\n",
       "8                                                                                             [beautiful, !]\n",
       "9        [did, mean, this, october, ?, maybe, is, onto, something, regarding, this, horrible, excuse, 👇, ...\n",
       "10                                                            [that, ’, s, not, how, it, works, ,, fatso, .]\n",
       "11                      [trump, :, farmers, who, want, me, to, end, my, trade, war, are, ', dumb, people, ']\n",
       "12       [duke, university, ’, s, student, government, rejects, christian, organization, ,, citing, lgbt,...\n",
       "13                [thank, you, for, the, ride, !, !, following, all, ,, please, follow, back, ,, thanks, :)]\n",
       "14                                                                                          [wtf, ?, wow, !]\n",
       "15       [ummm, dumbo, ,, i, dont, see, the, gop, taking, a, line, of, credit, like, your, dnc, ., stop, ...\n",
       "16       [it, wouldn't, make, a, difference, who, they, faced, if, all, those, lazy, registered, voters, ...\n",
       "17                                                                                         [congratulations]\n",
       "18       [we, will, never, agree, on, this, ,, seeing, as, how, you've, never, been, a, leo, ., and, gods...\n",
       "19       [sure, flake, had, aspirations, of, becoming, potus, ., at, one, time, ., he, had, the, kennedyi...\n",
       "20       [if, you, really, understand, what, has, happened, here, ,, trump, became, the, real, whistleblo...\n",
       "21                                                                   [is, the, only, way, to, stop, this, .]\n",
       "22                                                                                 [is, still, an, idiot, !]\n",
       "23                                                                 [strong, ., fearless, ., leader, ., 🇺, 🇸]\n",
       "24       [well, you, guys, have, done, nothing, but, attack, ,, don, ’, t, blame, administration, at, all...\n",
       "25       [this, was, beautiful, power, tie, ., i, actually, pinned, it, to, my, timeline, that's, how, mu...\n",
       "26       [imagine, a, day, when, a, person, accused, does, not, get, to, meet, their, accuser, ,, or, eve...\n",
       "27                                                        [hey, your, leader, has, spoken, about, you, !, 😜]\n",
       "28                                                                [and, the, witch, hunt, will, be, over, .]\n",
       "29       [., ⬇, ️, must, vote, red, down, ballot, ⬇, ️, we, must, get, rid, of, the, 🐀, ⬇, ️, and, hate, ...\n",
       "                                                        ...                                                 \n",
       "15970    [we, need, to, start, calling, our, representatives, and, tell, them, to, cut, the, crap, ., we,...\n",
       "15971                                           [🎵, that's, the, way, they, became, the, shady, bunch, !, 🎵]\n",
       "15972    [hey, everyone, ,, including, you, ,, knows, was, parodying, the, call, tho, it, was, remarkably...\n",
       "15973    [deniro, words, makes, him, sound, like, a, mobster, ,, but, his, actions, seem, to, confirm, it...\n",
       "15974                                                                                           [., read, :]\n",
       "15975                            [what, ?, so, this, is, ?, lol, ., clearly, america, bows, to, russia, now]\n",
       "15976    [love, it, when, racist, trolls, like, block, you, for, pointing, out, their, hateful, ignorance...\n",
       "15977    [not, just, evangelicals, ., the, fury, felt, over, this, fake, impeachment, is, off, the, chart...\n",
       "15978    [how, many, are, needed, ?, trump, pressed, australian, leader, to, help, barr, investigate, mue...\n",
       "15979    [you're, a, dishonest, person, and, a, disgrace, to, california, ., you, make, up, lies, and, sw...\n",
       "15980                                                                  [about, damn, time, !, !, ❤, ️, 🇺, 🇸]\n",
       "15981                                      [donald, trump, video, taped, and, having, sex, !, just, sick, !]\n",
       "15982                      [judicial, watch, -, judicial, watch, sues, for, biden-ukraine, scandal, docs, -]\n",
       "15983                                                                             [best, president, ever, !]\n",
       "15984    [is, the, going, to, report, this, or, burry, it, ?, hoax, :, girl, who, accused, white, boys, o...\n",
       "15985    [so, brennan, is, now, calling, for, his, flying, monkeys, ?, .., this, is, obviously, getting, ...\n",
       "15986    [obama, has, sanitized, his, entire, life, ,, why, ?, only, reason, is, to, hide, his, past, !, ...\n",
       "15987         [damn, straight, my, president, rt, yes, ,, we, want, 4, more, years, of, president, trump, !]\n",
       "15988                                                         [haha, is, about, to, get, locked, up, ..., 😂]\n",
       "15989                                                                         [thank, you, mr, ., president]\n",
       "15990    [hey, everyone, ,, including, you, ,, knows, was, parodying, the, call, though, it, was, remarka...\n",
       "15991    [thank, you, president, trump, for, all, you're, doing, to, fight, for, the, people, ., especial...\n",
       "15992                           [., in, is, king, of, the, and, he, gets, his, &, from, people, in, --->, (]\n",
       "15993    [being, reported, that-mike, pompeo, present, when, trump, was, on, phone, w, /, ukraine, potus,...\n",
       "15994    [impeaching, this, man, is, the, only, way, to, save, our, democracy, !, if, you, dont, know, it...\n",
       "15995                                                                                       [not, a, chance]\n",
       "15996    [unhinged, robert, de, niro, explodes, on, live, tv, in, obscene, ,, vile, anti-trump, rant, —, ...\n",
       "15997                                            [i, think, we, can, all, see, how, corrupt, people, are, !]\n",
       "15998    [stay, strong, the, fl, cuban, deplorable, ’, s, have, your, back, !, we, are, the, silent, majo...\n",
       "15999    [ok, patriots, let's, get, the, 100x, votes, needed, ., don't, forget, to, share, and, go, to, e...\n",
       "Name: text, Length: 16000, dtype: object"
      ]
     },
     "execution_count": 18,
     "metadata": {},
     "output_type": "execute_result"
    }
   ],
   "source": [
    "data.text.str..apply(tokenizer.tokenize)"
   ]
  },
  {
   "cell_type": "code",
   "execution_count": 19,
   "metadata": {},
   "outputs": [
    {
     "data": {
      "text/plain": [
       "[\"I'm\", 'I', '`', 'm', '\"', 'asd', '\"', '˝', 'asd', '˝']"
      ]
     },
     "execution_count": 19,
     "metadata": {},
     "output_type": "execute_result"
    }
   ],
   "source": [
    "tokenizer.tokenize('I\\'m I`m \"asd\" ˝asd˝')"
   ]
  },
  {
   "cell_type": "code",
   "execution_count": null,
   "metadata": {},
   "outputs": [],
   "source": []
  }
 ],
 "metadata": {
  "hide_input": false,
  "kernelspec": {
   "display_name": "Python 3",
   "language": "python",
   "name": "python3"
  },
  "language_info": {
   "codemirror_mode": {
    "name": "ipython",
    "version": 3
   },
   "file_extension": ".py",
   "mimetype": "text/x-python",
   "name": "python",
   "nbconvert_exporter": "python",
   "pygments_lexer": "ipython3",
   "version": "3.7.3"
  },
  "toc": {
   "base_numbering": 1,
   "nav_menu": {},
   "number_sections": true,
   "sideBar": true,
   "skip_h1_title": true,
   "title_cell": "Table of Contents",
   "title_sidebar": "Contents",
   "toc_cell": false,
   "toc_position": {},
   "toc_section_display": true,
   "toc_window_display": true
  }
 },
 "nbformat": 4,
 "nbformat_minor": 2
}
