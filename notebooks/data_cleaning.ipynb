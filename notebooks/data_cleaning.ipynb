{
 "cells": [
  {
   "cell_type": "markdown",
   "metadata": {},
   "source": [
    "# Clean that twitter data!\n",
    "\n",
    "Use of the \"Table of Contents\" nbextension is highly recommended."
   ]
  },
  {
   "cell_type": "markdown",
   "metadata": {},
   "source": [
    "### Basic imports, settings"
   ]
  },
  {
   "cell_type": "code",
   "execution_count": 114,
   "metadata": {},
   "outputs": [],
   "source": [
    "import numpy as np\n",
    "import pandas as pd\n",
    "import re\n",
    "import nltk\n",
    "import os\n",
    "import json\n",
    "import sys\n",
    "\n",
    "pd.set_option('display.max_columns', 200)\n",
    "pd.set_option('display.max_colwidth',100)"
   ]
  },
  {
   "cell_type": "markdown",
   "metadata": {},
   "source": [
    "### Check variables in memory"
   ]
  },
  {
   "cell_type": "code",
   "execution_count": 2,
   "metadata": {},
   "outputs": [
    {
     "data": {
      "text/plain": [
       "[('np', 80), ('pd', 80)]"
      ]
     },
     "execution_count": 2,
     "metadata": {},
     "output_type": "execute_result"
    }
   ],
   "source": [
    "import sys\n",
    "\n",
    "# These are the usual ipython objects, including this one you are creating\n",
    "ipython_vars = ['In', 'Out', 'exit', 'quit', 'get_ipython', 'ipython_vars']\n",
    "\n",
    "# Get a sorted list of the objects and their sizes\n",
    "sorted([(x, sys.getsizeof(globals().get(x))) for x in dir() if not x.startswith('_') and x not in sys.modules and x not in ipython_vars], key=lambda x: x[1], reverse=True)"
   ]
  },
  {
   "cell_type": "markdown",
   "metadata": {},
   "source": [
    "## Read data"
   ]
  },
  {
   "cell_type": "code",
   "execution_count": 3,
   "metadata": {},
   "outputs": [
    {
     "name": "stdout",
     "output_type": "stream",
     "text": [
      "Loading tweets from ../data/tweets_maga\n",
      "Successfully loaded 16000 tweets from 16 files.\n"
     ]
    }
   ],
   "source": [
    "dir_path = '../data/tweets_maga'\n",
    "data = pd.DataFrame()\n",
    "\n",
    "print('Loading tweets from', dir_path)\n",
    "file_names = [file for file in os.listdir(dir_path) if os.path.isfile(os.path.join(dir_path, file))]\n",
    "for file_name in file_names:\n",
    "    file_path = dir_path + '/' + file_name\n",
    "    with open(file_path, 'r', encoding='utf-8') as file:\n",
    "        tweets = pd.read_json(file)\n",
    "        data = pd.concat([data, tweets], ignore_index=True)\n",
    "        \n",
    "print('Successfully loaded {} tweets from {} files.'.format(len(data), len(file_names)))"
   ]
  },
  {
   "cell_type": "code",
   "execution_count": 16,
   "metadata": {
    "scrolled": true
   },
   "outputs": [
    {
     "data": {
      "text/plain": [
       "0         i’m confused. is this a new “greatest” or the same as the old? all of your scandals are hard to...\n",
       "1                                                                       i'm not yet tired of winning, sir!  \n",
       "2          you are the true patriots!  if antifa physically assaults you in any way you can legally defen...\n",
       "3        it is amazing to watch  throw his reputation down the toilet. my guess  has something on him, or...\n",
       "4                                                                   whooooohooooo! i’m so excited for you!  \n",
       "5         lied about wikileaks in \\n\\nthe grand-jury redactions in special counsel  report show that pres...\n",
       "6                                                           never polled and don't know anyone that has. \\n \n",
       "7        \\n\\n needs to get off their ass and put their foot down!\\n\\ndems/antifa (same thing) crossed the...\n",
       "8                                                                                             beautiful!\\n\\n\n",
       "9                 did  mean this october? \\nmaybe  is onto something regarding this horrible excuse 👇👇👇     \n",
       "10                                                                       that’s not how it works, fatso. \\n \n",
       "11                                        trump: farmers who want me to end my trade war are 'dumb people'  \n",
       "12               duke university’s student government rejects christian organization, citing lgbt policy    \n",
       "13                                  thank you for the ride!!\\nfollowing all, please follow back, thanks :)\\n\n",
       "14                                                                                              wtf? wow!   \n",
       "15          ummm dumbo, i dont see the gop taking a line of credit like your dnc. stop supporting radical...\n",
       "16           it wouldn't make a difference who they faced if all those lazy registered  voters who didn't...\n",
       "17                                                                                          congratulations \n",
       "18                        we will never agree on this, seeing as how you've never been a leo.  and godspeed.\n",
       "19        sure flake had aspirations of becoming potus. at one time. he had the kennedyish looks. but wha...\n",
       "20        if you really understand what has happened here, trump became the real whistleblower during his...\n",
       "21                                                                            is the only way to stop this. \n",
       "22                                                                                    is still an idiot!    \n",
       "23                                                                           strong. fearless. leader. 🇺🇸   \n",
       "24           well you guys have done nothing but attack, don’t blame administration at all for not inviti...\n",
       "25        this was beautiful power tie. i actually pinned it to my timeline that's how much i like it. ve...\n",
       "26        imagine a day when a person accused does not get to meet their accuser, or even know who the ac...\n",
       "27                                                               hey    your leader has spoken about you! 😜 \n",
       "28                                                                         and the witch hunt will be over. \n",
       "29       . ⬇️  must vote red down ballot ⬇️ we must get rid of the 🐀 ⬇️  and hate america    vote red vot...\n",
       "                                                        ...                                                 \n",
       "15970    we need to start calling our representatives and tell them to cut the crap. we’re sick and tired...\n",
       "15971                                              🎵that's the way they became the shady bunch!🎵\\n\\n\\n\\n\\n\\n\n",
       "15972     hey \\neveryone, including you, knows  was parodying the call tho it was remarkably true.\\nyou'r...\n",
       "15973                     deniro words makes him sound like a mobster, but his actions seem to confirm it!  \n",
       "15974                                                                                        .    \\n\\nread: \n",
       "15975                                          what ? so this is  ? lol. clearly america bows to russia now \n",
       "15976    love it when racist  trolls like  block you for pointing out their hateful ignorance. \\n\\nso... ...\n",
       "15977    not just evangelicals. the fury felt over this fake impeachment is off the charts. they have bee...\n",
       "15978    how many  are needed?     \\n\\ntrump pressed australian leader to help barr investigate mueller i...\n",
       "15979     you're a dishonest person and a disgrace to california.  you make up lies and swear you have ev...\n",
       "15980                                                                             about damn time!!\\n❤️🇺🇸   \n",
       "15981                                               donald trump video taped  and  having sex!  just sick!  \n",
       "15982                               judicial watch - judicial watch sues for biden-ukraine scandal docs -   \n",
       "15983                                                                                best president ever!   \n",
       "15984    is the  going to report this or burry it?          hoax: girl who accused white boys of cutting ...\n",
       "15985      so brennan is now calling for his flying monkeys?..this is obviously getting too close for com...\n",
       "15986                      obama has sanitized his entire life, why? \\nonly reason is to hide his past!  ...\n",
       "15987                    damn straight  my president   \\nrt    yes, we want 4 more years of president trump!\n",
       "15988                                                              haha  is about to get locked up ... 😂    \n",
       "15989                                                                               thank you mr. president \n",
       "15990    hey \\neveryone, including you, knows  was parodying the call though it was remarkably true.\\nyou...\n",
       "15991     thank you president trump for all you're doing to fight for the people. especially the children...\n",
       "15992     .\\n\\nin   is king of the \\nand he gets his  &amp;  from people in   \\n ---&gt;  (\\n\\n\\n\\n \\n\\n ...\n",
       "15993     being reported that-mike pompeo present when trump was on phone w/ ukraine potus breaking the l...\n",
       "15994    impeaching this man is the only way to save our democracy! if you dont know it you are part of t...\n",
       "15995                                                                                         not a chance  \n",
       "15996    unhinged robert de niro explodes on live tv in obscene, vile anti-trump rant — cnn host cuts to ...\n",
       "15997                                                       i think we can all see how corrupt  people are! \n",
       "15998                 stay strong  the fl cuban deplorable’s have your back! we are the silent majority!    \n",
       "15999    ok patriots let's get the 100x votes needed. don't forget to share and go to email for verificat...\n",
       "Name: text, Length: 16000, dtype: object"
      ]
     },
     "execution_count": 16,
     "metadata": {},
     "output_type": "execute_result"
    }
   ],
   "source": [
    "original_text = data.text\n",
    "original_text"
   ]
  },
  {
   "cell_type": "markdown",
   "metadata": {},
   "source": [
    "## Clean data"
   ]
  },
  {
   "cell_type": "markdown",
   "metadata": {},
   "source": [
    "### Lower case, strip"
   ]
  },
  {
   "cell_type": "code",
   "execution_count": 5,
   "metadata": {},
   "outputs": [],
   "source": [
    "# everything in lower case, strip\n",
    "data['text'] = data.text.str.lower()\n",
    "data['text'] = data.text.str.strip()"
   ]
  },
  {
   "cell_type": "markdown",
   "metadata": {},
   "source": [
    "### Remove tags, usernames, hyperlinks"
   ]
  },
  {
   "cell_type": "code",
   "execution_count": 6,
   "metadata": {},
   "outputs": [],
   "source": [
    "# remove every #tag \n",
    "data['text'] = data.text.str.replace(r'#\\S*', '')"
   ]
  },
  {
   "cell_type": "code",
   "execution_count": 7,
   "metadata": {},
   "outputs": [],
   "source": [
    "# remove every @username\n",
    "data['text'] = data.text.str.replace(r'@\\S*', '')"
   ]
  },
  {
   "cell_type": "code",
   "execution_count": 8,
   "metadata": {},
   "outputs": [],
   "source": [
    "# remove links\n",
    "data['text'] = data.text.str.replace(r'http(\\S)*', '')"
   ]
  },
  {
   "cell_type": "markdown",
   "metadata": {},
   "source": [
    "### Remove punctuation"
   ]
  },
  {
   "cell_type": "code",
   "execution_count": 99,
   "metadata": {
    "scrolled": true
   },
   "outputs": [],
   "source": [
    "# side note: f*ck those wierdly encoded characters, I'm gonna deal with them in another way... :@\n",
    "data['text'] = data.text.str.replace(r'[\\.,;:?!\\(\\)\\n\\t]','')"
   ]
  },
  {
   "cell_type": "markdown",
   "metadata": {},
   "source": [
    "### Tokenize"
   ]
  },
  {
   "cell_type": "code",
   "execution_count": 100,
   "metadata": {},
   "outputs": [],
   "source": [
    "from nltk.tokenize import TweetTokenizer\n",
    "\n",
    "# strip_handles because I'm not sure what it does (maybe removes usernames?),\n",
    "# reduce_len because I want 'waaaaaay' to be equal to 'waaay'\n",
    "tokenizer = TweetTokenizer(strip_handles=True, reduce_len=True)"
   ]
  },
  {
   "cell_type": "code",
   "execution_count": 105,
   "metadata": {},
   "outputs": [
    {
     "name": "stderr",
     "output_type": "stream",
     "text": [
      "[nltk_data] Downloading package stopwords to\n",
      "[nltk_data]     /home/tandemelephant/nltk_data...\n",
      "[nltk_data]   Unzipping corpora/stopwords.zip.\n"
     ]
    },
    {
     "data": {
      "text/plain": [
       "True"
      ]
     },
     "execution_count": 105,
     "metadata": {},
     "output_type": "execute_result"
    }
   ],
   "source": [
    "nltk.download('stopwords')"
   ]
  },
  {
   "cell_type": "code",
   "execution_count": 135,
   "metadata": {},
   "outputs": [],
   "source": [
    "from nltk.stem.snowball import SnowballStemmer\n",
    "from nltk.corpus import stopwords\n",
    "\n",
    "def token_cleaner(token_list):\n",
    "    \n",
    "    stemmer = SnowballStemmer('english')\n",
    "    stop_words = set(stopwords.words('english'))\n",
    "    regex = regex = re.compile(r'\\w\\w+')\n",
    "    \n",
    "    tokens = [x for x in token_list if x not in stop_words]\n",
    "    return list(filter(regex.search, [stemmer.stem(x) for x in tokens]))"
   ]
  },
  {
   "cell_type": "code",
   "execution_count": 136,
   "metadata": {
    "scrolled": true
   },
   "outputs": [
    {
     "data": {
      "text/plain": [
       "0                                            [confus, new, greatest, old, scandal, hard, follow, pussygrabb]\n",
       "1                                                                                      [yet, tire, win, sir]\n",
       "2                                               [true, patriot, antifa, physic, assault, way, legal, defend]\n",
       "3                     [amaz, watch, throw, reput, toilet, guess, someth, mayb, bumbl, old, fool, hard, tell]\n",
       "4                                                                                         [whooohooo, excit]\n",
       "5        [lie, wikileak, grand-juri, redact, special, counsel, report, show, presid, trump, lie, knowledg...\n",
       "6                                                                                 [never, poll, know, anyon]\n",
       "7                                           [need, get, ass, put, foot, downdem, antifa, thing, cross, line]\n",
       "8                                                                                                   [beauti]\n",
       "9                                                  [mean, octob, mayb, onto, someth, regard, horribl, excus]\n",
       "10                                                                                             [work, fatso]\n",
       "11                                                       [trump, farmer, want, end, trade, war, dumb, peopl]\n",
       "12                            [duke, univers, student, govern, reject, christian, organ, cite, lgbt, polici]\n",
       "13                                                           [thank, ridefollow, pleas, follow, back, thank]\n",
       "14                                                                                                [wtf, wow]\n",
       "15       [ummm, dumbo, dont, see, gop, take, line, credit, like, dnc, stop, support, radic, mental, case,...\n",
       "16       [make, differ, face, lazi, regist, voter, vote, got, butt, vote, would, democrat, landslid, vict...\n",
       "17                                                                                               [congratul]\n",
       "18                                                                    [never, agre, see, never, leo, godspe]\n",
       "19       [sure, flake, aspir, becom, potus, one, time, kennedyish, look, coward, flake, turn, kavanaugh, ...\n",
       "20                      [realli, understand, happen, trump, becam, real, whistleblow, campaign, upon, elect]\n",
       "21                                                                                               [way, stop]\n",
       "22                                                                                            [still, idiot]\n",
       "23                                                                                [strong, fearless, leader]\n",
       "24                                                  [well, guy, done, noth, attack, blame, administr, invit]\n",
       "25       [beauti, power, tie, actual, pin, timelin, that, much, like, inspir, presid, alway, inspir, than...\n",
       "26       [imagin, day, person, accus, get, meet, accus, even, know, accus, isthen, imagin, person, accus,...\n",
       "27                                                                                     [hey, leader, spoken]\n",
       "28                                                                                             [witch, hunt]\n",
       "29                            [must, vote, red, ballot, must, get, rid, hate, america, vote, red, vote, red]\n",
       "                                                        ...                                                 \n",
       "15970    [need, start, call, repres, tell, cut, crap, sick, tire, democrat, go, pay, dear, put, countri, ...\n",
       "15971                                                                       [that, way, becam, shadi, bunch]\n",
       "15972    [hey, everyon, includ, know, parodi, call, tho, remark, trueyou'r, push, slow, pant, soil, hard,...\n",
       "15973                                      [deniro, word, make, sound, like, mobster, action, seem, confirm]\n",
       "15974                                                                                                 [read]\n",
       "15975                                                                     [lol, clear, america, bow, russia]\n",
       "15976    [love, racist, troll, like, block, point, hate, ignor, conspiratori, nonsens, downer, pass, info...\n",
       "15977    [evangel, furi, felt, fake, impeach, chart, tri, disenfranchis, vote, yearsput, hell, support, h...\n",
       "15978    [mani, need, trump, press, australian, leader, help, barr, investig, mueller, inquiri, origin, n...\n",
       "15979    [dishonest, person, disgrac, california, make, lie, swear, evid, presid, trump, case, jerri, nad...\n",
       "15980                                                                                           [damn, time]\n",
       "15981                                                                [donald, trump, video, tape, sex, sick]\n",
       "15982                                        [judici, watch, judici, watch, sue, biden-ukrain, scandal, doc]\n",
       "15983                                                                                   [best, presid, ever]\n",
       "15984      [go, report, burri, hoax, girl, accus, white, boy, cut, dreadlock, admit, made, washington, time]\n",
       "15985                                         [brennan, call, fli, monkeysthi, obvious, get, close, comfort]\n",
       "15986    [obama, sanit, entir, life, reason, hide, past, obama, still, enigma, corrupt, individu, anti-co...\n",
       "15987                                           [damn, straight, presid, rt, yes, want, year, presid, trump]\n",
       "15988                                                                                      [haha, get, lock]\n",
       "15989                                                                                    [thank, mr, presid]\n",
       "15990    [hey, everyon, includ, know, parodi, call, though, remark, trueyou'r, push, slow, pant, soil, ha...\n",
       "15991    [thank, presid, trump, fight, peopl, especi, childrenth, past, year, testament, dirti, polit, si...\n",
       "15992                                                                            [king, get, amp, peopl, gt]\n",
       "15993                           [report, that-mik, pompeo, present, trump, phone, ukrain, potus, break, law]\n",
       "15994                                        [impeach, man, way, save, democraci, dont, know, part, problem]\n",
       "15995                                                                                                [chanc]\n",
       "15996    [unhing, robert, de, niro, explod, live, tv, obscen, vile, anti-trump, rant, cnn, host, cut, com...\n",
       "15997                                                                           [think, see, corrupt, peopl]\n",
       "15998                                                 [stay, strong, fl, cuban, deplor, back, silent, major]\n",
       "15999                             [ok, patriot, let, get, 100x, vote, need, forget, share, go, email, verif]\n",
       "Name: text, Length: 16000, dtype: object"
      ]
     },
     "execution_count": 136,
     "metadata": {},
     "output_type": "execute_result"
    }
   ],
   "source": [
    "data.text.apply(tokenizer.tokenize).apply(token_cleaner)"
   ]
  },
  {
   "cell_type": "code",
   "execution_count": 134,
   "metadata": {},
   "outputs": [
    {
     "data": {
      "text/plain": [
       "'damn straight  my president   rt    yes we want 4 more years of president trump'"
      ]
     },
     "execution_count": 134,
     "metadata": {},
     "output_type": "execute_result"
    }
   ],
   "source": [
    "regex = re.compile(r'[^(rt)]')\n",
    "list(filter(re.search, ))"
   ]
  },
  {
   "cell_type": "code",
   "execution_count": null,
   "metadata": {},
   "outputs": [],
   "source": []
  }
 ],
 "metadata": {
  "hide_input": false,
  "kernelspec": {
   "display_name": "Python 3",
   "language": "python",
   "name": "python3"
  },
  "language_info": {
   "codemirror_mode": {
    "name": "ipython",
    "version": 3
   },
   "file_extension": ".py",
   "mimetype": "text/x-python",
   "name": "python",
   "nbconvert_exporter": "python",
   "pygments_lexer": "ipython3",
   "version": "3.7.3"
  },
  "toc": {
   "base_numbering": 1,
   "nav_menu": {},
   "number_sections": true,
   "sideBar": true,
   "skip_h1_title": true,
   "title_cell": "Table of Contents",
   "title_sidebar": "Contents",
   "toc_cell": false,
   "toc_position": {},
   "toc_section_display": true,
   "toc_window_display": true
  }
 },
 "nbformat": 4,
 "nbformat_minor": 2
}
