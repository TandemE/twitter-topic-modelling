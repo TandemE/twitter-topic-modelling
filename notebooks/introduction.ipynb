{
 "cells": [
  {
   "cell_type": "markdown",
   "metadata": {},
   "source": [
    "# Twitter Topic Modelling"
   ]
  },
  {
   "cell_type": "markdown",
   "metadata": {},
   "source": [
    "## Introduction"
   ]
  },
  {
   "cell_type": "markdown",
   "metadata": {},
   "source": [
    "Due to the increasing volume of digitized text, the automatic classification and organization of written information becomes more and more important. The widely used tools to address this problem are topic models. These models originated from heuristic approaches, like singular value decomposition (SVD) in latent semantic indexing (LSI). The evolution of topic modelling continued in generative probabilistic models, two key developments are probabilistic LSI (pLSI) [#] and its continuation: latent Dirichlet allocation (LDA) [#]. The latter was established as the state-of-the-art method, and was widely used for classification, recommendation, and even political analysis [#]."
   ]
  },
  {
   "cell_type": "markdown",
   "metadata": {},
   "source": [
    "<img src='../img/prob_vs_commmunity.png' width=80%>\n",
    "<div style=\"width:75%; margin:0 auto;\">\n",
    "    <left>\n",
    "        <b>Fig. 0.</b> This figure shows the connection between the probabilistic model of topics and community detection in networks. On the left, there are three topics (A,B,C) displayed, and each word below them can belong to multiple topics. On the left, there is a co-occurence network of words, with the three topics represented as communities.\n",
    "    </left>\n",
    "</div>"
   ]
  },
  {
   "cell_type": "markdown",
   "metadata": {},
   "source": [
    "However, in a recent (2018) paper [#] the authors argue that network based community finding methods (for example hierarchical Stochastic Block Model - hSBM) are superior to the LDA model. They showed, that their approach achieves superior results on real life data (Wikipedia, New York Times, etc.), and even on synthetic data constructed from the generative process of LDA.\n",
    "\n",
    "(The figures below are copies from the original paper [#])"
   ]
  },
  {
   "cell_type": "markdown",
   "metadata": {},
   "source": [
    "<tr>\n",
    "    <th><img src='../img/two_approaches_to_topic_modelling.png'></th>\n",
    "    <th><img src='../img/topic_model_community_detection_parallelism.png'></th>\n",
    "</tr>"
   ]
  },
  {
   "cell_type": "markdown",
   "metadata": {},
   "source": [
    "## Plan of action"
   ]
  },
  {
   "cell_type": "markdown",
   "metadata": {},
   "source": [
    "My project is to understand the new topic modelling approach introduced in [#] and compare it to LDA on tweets. The following tasks should be done during the semester:\n",
    "\n",
    "    1. Download tweets of some popular topic from Twitter, e.g. #Brexit, or #meetoo \n",
    "    (or tweets around a given location,  e.g. New York, London)\n",
    "        a) Download (I am using tweepy, see tweet_collector.html)\n",
    "        b) Clean the data (stopwords, usernames, plural forms)\n",
    "        \n",
    "    2. Understand the two approaches discussed in the article\n",
    "    (which is quite hard in itself, because of the complex statistical models introduced by the authors) \n",
    "    \n",
    "    3. Find suitable libraries (e.g. networkx), which implement the necessary algorithms \n",
    "    (e.g. SVD, hSBM, other community finders)\n",
    "    \n",
    "    4. Test the methods on the dataset, and assess whether the results are meaningful. If not, find out why. (It is \n",
    "    said to be hard to apply topic modelling on tweets, due to their shortness, and the nature of their content)"
   ]
  },
  {
   "cell_type": "code",
   "execution_count": null,
   "metadata": {},
   "outputs": [],
   "source": []
  }
 ],
 "metadata": {
  "hide_input": false,
  "kernelspec": {
   "display_name": "Python 3",
   "language": "python",
   "name": "python3"
  },
  "language_info": {
   "codemirror_mode": {
    "name": "ipython",
    "version": 3
   },
   "file_extension": ".py",
   "mimetype": "text/x-python",
   "name": "python",
   "nbconvert_exporter": "python",
   "pygments_lexer": "ipython3",
   "version": "3.7.3"
  },
  "toc": {
   "base_numbering": 1,
   "nav_menu": {},
   "number_sections": true,
   "sideBar": true,
   "skip_h1_title": true,
   "title_cell": "Table of Contents",
   "title_sidebar": "Contents",
   "toc_cell": false,
   "toc_position": {
    "height": "calc(100% - 180px)",
    "left": "10px",
    "top": "150px",
    "width": "165px"
   },
   "toc_section_display": true,
   "toc_window_display": true
  }
 },
 "nbformat": 4,
 "nbformat_minor": 2
}
