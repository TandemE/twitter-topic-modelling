{
 "cells": [
  {
   "cell_type": "markdown",
   "metadata": {},
   "source": [
    "# Let's collect tweets!"
   ]
  },
  {
   "cell_type": "markdown",
   "metadata": {},
   "source": [
    "Run these cells after each other, and the collection of tweets will automatically continue from the last saved tweet."
   ]
  },
  {
   "cell_type": "markdown",
   "metadata": {},
   "source": [
    "### Parameters"
   ]
  },
  {
   "cell_type": "code",
   "execution_count": 1,
   "metadata": {},
   "outputs": [],
   "source": [
    "# Parameters for saving tweets\n",
    "tweet_per_file = 1000\n",
    "max_n_files = 100\n",
    "dir_path = '../data/tweets_NY_150km'\n",
    "\n",
    "# Parameters of the query (tweepy API.search())\n",
    "q           ='*' \n",
    "geocode     ='40.7128,74.0060,150km' \n",
    "tweet_mode  ='extended'\n",
    "lang        ='en' \n",
    "result_type = 'recent'"
   ]
  },
  {
   "cell_type": "markdown",
   "metadata": {},
   "source": [
    "## Imports"
   ]
  },
  {
   "cell_type": "code",
   "execution_count": 2,
   "metadata": {},
   "outputs": [],
   "source": [
    "import tweepy\n",
    "import json\n",
    "import os\n",
    "import re\n",
    "\n",
    "from IPython.display import display, clear_output"
   ]
  },
  {
   "cell_type": "markdown",
   "metadata": {},
   "source": [
    "## Load Twitter credentials, access API"
   ]
  },
  {
   "cell_type": "code",
   "execution_count": 4,
   "metadata": {},
   "outputs": [],
   "source": [
    "twitter_credentials = json.load(open('../keys.json', 'r'))['twitter1']\n",
    "CONSUMER_KEY = twitter_credentials['consumer_key']\n",
    "CONSUMER_SECRET = twitter_credentials['consumer_secret']\n",
    "token_key    = twitter_credentials['token_key']\n",
    "token_secret = twitter_credentials['token_secret']"
   ]
  },
  {
   "cell_type": "markdown",
   "metadata": {},
   "source": [
    "##### OAuthHandler vs. AppAuthHandler\n",
    "\n",
    "AppAuthHandler is much better for data retrieval. It has a <b>higher rate limit</b>, and even if it reaches the limit, it <b>waits automatically</b> until it can request more data."
   ]
  },
  {
   "cell_type": "code",
   "execution_count": 5,
   "metadata": {},
   "outputs": [],
   "source": [
    "# Authenticate twitter Api\n",
    "auth = tweepy.AppAuthHandler(CONSUMER_KEY, CONSUMER_SECRET)\n",
    "api = tweepy.API(auth, wait_on_rate_limit=True, wait_on_rate_limit_notify=True)\n",
    "if (not api):\n",
    "    print (\"Can't Authenticate\")\n",
    "# auth.set_access_token(token_key, token_secret)"
   ]
  },
  {
   "cell_type": "markdown",
   "metadata": {},
   "source": [
    "## Get the ID of the last saved tweet"
   ]
  },
  {
   "cell_type": "code",
   "execution_count": 6,
   "metadata": {},
   "outputs": [
    {
     "name": "stdout",
     "output_type": "stream",
     "text": [
      "Num. of files : 5\n",
      "First ID : 1172558832842792960\n",
      "Last ID  : 1176485641116368898\n"
     ]
    }
   ],
   "source": [
    "file_names = os.listdir(dir_path)\n",
    "all_tweets = []\n",
    "for file_name in file_names:\n",
    "    file_path = dir_path + '/' + file_name\n",
    "    with open(file_path, 'r', encoding='utf-8') as file:\n",
    "        all_tweets.append(json.load(file)[0])\n",
    "    \n",
    "ids = [tweet['id'] for tweet in all_tweets]\n",
    "last_id = max(ids)\n",
    "first_id = min(ids)\n",
    "print('Num. of files :', len(file_names))\n",
    "print('First ID :', first_id)\n",
    "print('Last ID  :', last_id)"
   ]
  },
  {
   "cell_type": "markdown",
   "metadata": {},
   "source": [
    "## Collect tweets"
   ]
  },
  {
   "cell_type": "code",
   "execution_count": 7,
   "metadata": {},
   "outputs": [
    {
     "data": {
      "text/plain": [
       "'5/58'"
      ]
     },
     "metadata": {},
     "output_type": "display_data"
    }
   ],
   "source": [
    "i = 0\n",
    "i_file = len(file_names)\n",
    "\n",
    "\n",
    "c = tweepy.Cursor(api.search, \n",
    "                  q = q, \n",
    "                  geocode = geocode, \n",
    "                  tweet_mode = tweet_mode, \n",
    "                  lang = lang, \n",
    "                  since_id = last_id,\n",
    "#                  max_id=first_id,\n",
    "                  result_type = result_type\n",
    "                 )\n",
    "\n",
    "tweets = []\n",
    "for tweet in c.items():\n",
    "    \n",
    "    #get full text for retweets and normal tweets too\n",
    "    try:\n",
    "        text = tweet.retweeted_status.full_text\n",
    "    except AttributeError:\n",
    "        text = tweet.full_text\n",
    "        \n",
    "    #save certain attributes (other than text)\n",
    "    tweets.append(\n",
    "      {\n",
    "          'id':tweet.id,\n",
    "          'text':text,\n",
    "          'created_at':str(tweet.created_at),\n",
    "          'author_name':tweet.author.name,\n",
    "      })\n",
    "    \n",
    "    #save every #tweet_per_file number of tweets to a json\n",
    "    i += 1\n",
    "    if i > (tweet_per_file-1):\n",
    "        with open(dir_path + '/' + 'tweets_{:03d}.json'.format(i_file), 'w', encoding='utf-8') as file:\n",
    "            json.dump(tweets, file, ensure_ascii=False, indent=4)\n",
    "        i_file += 1\n",
    "        i = 0\n",
    "        tweets = []\n",
    "    \n",
    "    clear_output(wait=True)\n",
    "    display('{}/{}'.format(i_file, i))\n",
    "\n",
    "    if i_file > (max_n_files):\n",
    "        break\n",
    "        "
   ]
  }
 ],
 "metadata": {
  "hide_input": false,
  "kernelspec": {
   "display_name": "Python 3",
   "language": "python",
   "name": "python3"
  },
  "language_info": {
   "codemirror_mode": {
    "name": "ipython",
    "version": 3
   },
   "file_extension": ".py",
   "mimetype": "text/x-python",
   "name": "python",
   "nbconvert_exporter": "python",
   "pygments_lexer": "ipython3",
   "version": "3.7.3"
  },
  "toc": {
   "base_numbering": 1,
   "nav_menu": {},
   "number_sections": true,
   "sideBar": true,
   "skip_h1_title": false,
   "title_cell": "Table of Contents",
   "title_sidebar": "Contents",
   "toc_cell": false,
   "toc_position": {
    "height": "calc(100% - 180px)",
    "left": "10px",
    "top": "150px",
    "width": "319.542px"
   },
   "toc_section_display": true,
   "toc_window_display": true
  }
 },
 "nbformat": 4,
 "nbformat_minor": 2
}
