{
 "cells": [
  {
   "cell_type": "code",
   "execution_count": 18,
   "metadata": {},
   "outputs": [],
   "source": [
    "import numpy as np\n",
    "import pandas as pd\n",
    "import nltk\n",
    "import os\n",
    "import json\n",
    "import sys\n",
    "\n",
    "pd.set_option('display.max_columns', 200)\n",
    "pd.set_option('display.max_colwidth',100)"
   ]
  },
  {
   "cell_type": "code",
   "execution_count": 2,
   "metadata": {},
   "outputs": [
    {
     "data": {
      "text/plain": [
       "[('np', 80), ('pd', 80)]"
      ]
     },
     "execution_count": 2,
     "metadata": {},
     "output_type": "execute_result"
    }
   ],
   "source": [
    "import sys\n",
    "\n",
    "# These are the usual ipython objects, including this one you are creating\n",
    "ipython_vars = ['In', 'Out', 'exit', 'quit', 'get_ipython', 'ipython_vars']\n",
    "\n",
    "# Get a sorted list of the objects and their sizes\n",
    "sorted([(x, sys.getsizeof(globals().get(x))) for x in dir() if not x.startswith('_') and x not in sys.modules and x not in ipython_vars], key=lambda x: x[1], reverse=True)"
   ]
  },
  {
   "cell_type": "code",
   "execution_count": 56,
   "metadata": {},
   "outputs": [
    {
     "name": "stdout",
     "output_type": "stream",
     "text": [
      "Loading tweets from ../data/tweets_maga\n",
      "Successfully loaded 16000 tweets from 16 files.\n"
     ]
    }
   ],
   "source": [
    "dir_path = '../data/tweets_maga'\n",
    "data = pd.DataFrame()\n",
    "\n",
    "print('Loading tweets from', dir_path)\n",
    "file_names = [file for file in os.listdir(dir_path) if os.path.isfile(os.path.join(dir_path, file))]\n",
    "for file_name in file_names:\n",
    "    file_path = dir_path + '/' + file_name\n",
    "    with open(file_path, 'r', encoding='utf-8') as file:\n",
    "        tweets = pd.read_json(file)\n",
    "        data = pd.concat([data, tweets], ignore_index=True)\n",
    "        \n",
    "print('Successfully loaded {} tweets from {} files.'.format(len(data), len(file_names)))"
   ]
  },
  {
   "cell_type": "code",
   "execution_count": 57,
   "metadata": {},
   "outputs": [
    {
     "data": {
      "text/plain": [
       "0        @realDonaldTrump I’m confused. Is this a new “greatest” or the same as the old? All of your scan...\n",
       "1                            @realDonaldTrump @Hyundai @Kia @Aptiv I'm not yet tired of winning, Sir!  #MAGA\n",
       "2        @WA_Silenced_Maj @realDonaldTrump You are the true patriots!  If Antifa physically assaults you ...\n",
       "3        It is amazing to watch @RudyGiuliani throw his reputation down the toilet. My guess @realDonaldT...\n",
       "4                     @w_terrence @realDonaldTrump WHOOOOOHOOOOO! I’m so excited for you! #MAGA #KAG2020♥️🇺🇸\n",
       "5        #Trump LIED ABOUT WIKILEAKS in #MuellerReport\\n\\nThe grand-jury REDACTIONS in special counsel #M...\n",
       "6                               Never polled and don't know anyone that has. \\n#MAGA https://t.co/n1bzaxntWX\n",
       "7        #GettumGirl\\n\\n#Maga needs to get off their ass and put their foot down!\\n\\nDems/Antifa (same th...\n",
       "8                                                                   @realDonaldTrump Beautiful!\\n#KAG\\n#MAGA\n",
       "9        #RedOctober Did #Q mean this October? \\nMaybe #JuanOSavin is onto something regarding this horri...\n",
       "10                                         @realDonaldTrump That’s not how it works, fatso. \\n#impeach #MAGA\n",
       "11            Trump: Farmers who want me to end my trade war are 'dumb people' #MAGA https://t.co/2LIeWqBnbl\n",
       "12       Duke University’s Student Government Rejects Christian Organization, Citing LGBT Policy https://...\n",
       "13       @JjRedWave1 @AngelStation007 @Stonekeeper3 @BlazeHunter14 @Einsteinium2009 @ProudArkgirl @Godsgi...\n",
       "14                                                            Wtf? Wow! #MAGA #QANON https://t.co/iaLsBGDW4X\n",
       "15       @debshearer1 @GOPChairwoman @realDonaldTrump Ummm Dumbo, I dont see the GOP taking a line of cre...\n",
       "16       #Resist #FBR #MAGA #voteblue It wouldn't make a difference who they faced if all those lazy regi...\n",
       "17                                                        @w_terrence @realDonaldTrump Congratulations #MAGA\n",
       "18       @detj210 @Ha37Rudy @lemonchronicle @no_silenced We will never agree on this, seeing as how you'v...\n",
       "19       @DailyCaller Sure Flake had aspirations of becoming POTUS. at one time. He had the Kennedyish Lo...\n",
       "20       @RealMattCouch If you really understand what has happened here, Trump became the real whistleblo...\n",
       "21                                               #MAGA is the only way to stop this. https://t.co/8zFVPQuCWy\n",
       "22                                    @JeffFlake is STILL an idiot!  #MAGA #MAGA2020 https://t.co/FE5hNjTpue\n",
       "23                                @realDonaldTrump STRONG. FEARLESS. LEADER. 🇺🇸 #TrumpTrain #MAGA #Trump2020\n",
       "24       @mitchellreports @SecPompeo @NBCNews @realDonaldTrump Well you guys have done nothing but attack...\n",
       "25       @realPowerTie This was beautiful Power Tie. I actually pinned it to my timeline that's how much ...\n",
       "26       @kirstiealley Imagine a day when a person accused does not get to meet their accuser, or even kn...\n",
       "27                                   Hey #MAGA   Your leader has spoken about you! 😜 https://t.co/fRTeoJC0bi\n",
       "28                                          @Chief_Arrow @Ed_Nichols1 AND the WITCH HUNT will be over. #MAGA\n",
       "29       .@realDonaldTrump ⬇️ #WeThePeople must vote RED down ballot ⬇️ we must get rid of the 🐀 ⬇️ #Demo...\n",
       "                                                        ...                                                 \n",
       "15970    We need to start calling our representatives and tell them to cut the crap. We’re sick and tired...\n",
       "15971    🎵That's The Way They Became The Shady Bunch!🎵\\n#CivilWarPotLuck\\n#VoteRedToSaveAmerica\\n#MAGA\\n#...\n",
       "15972    @realDonaldTrump Hey @realDonaldTrump\\nEveryone, including you, knows #AdamSchiff was parodying ...\n",
       "15973      @atensnut DeNiro words makes him sound like a mobster, but his actions seem to confirm it!  #MAGA\n",
       "15974                        .@realDonaldTrump #maga #foxnews #msnbc #QAnon\\n\\nRead: https://t.co/NYyQCmQLwD\n",
       "15975              What ? So this is #MAGA ? Lol. Clearly America bows to Russia now https://t.co/XQ4RHEcBpU\n",
       "15976    Love it when racist #MAGA trolls like @JordanHershman block you for pointing out their hateful i...\n",
       "15977    Not just Evangelicals. The fury felt over this fake impeachment is off the charts. They have bee...\n",
       "15978    How many #SmokingGuns are needed? #MoscowMitch #Impeachment #maga #TOBT \\n\\nTrump Pressed Austra...\n",
       "15979    @RepAdamSchiff You're a dishonest person and a disgrace to California.  You make up lies and swe...\n",
       "15980            @MZHemingway @FloridaSharkman About damn time!!\\n❤️🇺🇸 #MAGA #KAG #Trump2020LandslideVictory\n",
       "15981    @realDonaldTrump @RepMarkMeadows @freedomcaucus @RepAndyBiggsAZ Donald Trump video taped @Donald...\n",
       "15982    Judicial Watch - Judicial Watch Sues for Biden-Ukraine Scandal Docs - https://t.co/9MIRdrBkF2 #M...\n",
       "15983                                                  @realDonaldTrump Best President Ever!  #MAGA #KAG2020\n",
       "15984    Is the #fakenews going to report this or burry it? #mkultra. #q #qanon #qarmy #wwg1wga #maga #th...\n",
       "15985    @chuckwoolery @BFT_Podcast So Brennan is now calling for his Flying Monkeys?..This is obviously ...\n",
       "15986    @FoilTha @2ANow @Italia191 @OldcorpsGrunt @ItaliansMaga @proMAGAitalians @bmariek49 @GBSurfvergn...\n",
       "15987    Damn Straight @realDonaldTrump my President #MAGA #KAG \\nRT @stevegraydon: @pennygeneral @Hillar...\n",
       "15988    Haha #RudyGiuliani is about to get locked up ... 😂 #maga @foxnewsalert @CNN https://t.co/vEMcsWqJ7q\n",
       "15989                                                  #maga thank you mr. president https://t.co/2gRJDiIz6A\n",
       "15990    Hey @realDonaldTrump,\\nEveryone, including you, knows #AdamSchiff was parodying the call though ...\n",
       "15991    @realDonaldTrump Thank you President Trump for all you're doing to fight for the people. Especia...\n",
       "15992    @RealSaavedra .\\n#Yuge!\\nIn #Chicago, #JessieSmollett is King of the #HateCrimeHoax.\\nAnd he get...\n",
       "15993    #BreakingNews Being Reported that-Mike Pompeo Present when Trump was on Phone w/ Ukraine POTUS B...\n",
       "15994    Impeaching this man is the only way to save our DEMOCRACY! If you dont know it you are part of t...\n",
       "15995                                                            @marklutchman Not a chance #maga #Trump2020\n",
       "15996    Unhinged Robert De Niro Explodes on Live TV in Obscene, Vile Anti-Trump Rant — CNN Host Cuts to ...\n",
       "15997                           I think we can all see how corrupt #maga people are! https://t.co/IBllgBYHHT\n",
       "15998    Stay strong @WA_Silenced_Maj the FL Cuban Deplorable’s have your back! WE ARE THE SILENT MAJORIT...\n",
       "15999    Ok patriots let's get the 100x votes needed. Don't forget to share and go to email for verificat...\n",
       "Name: text, Length: 16000, dtype: object"
      ]
     },
     "execution_count": 57,
     "metadata": {},
     "output_type": "execute_result"
    }
   ],
   "source": [
    "data.text"
   ]
  },
  {
   "cell_type": "code",
   "execution_count": 58,
   "metadata": {},
   "outputs": [],
   "source": [
    "# everything in lower case, strip\n",
    "data['text'] = data.text.str.lower()\n",
    "data['text'] = data.text.str.strip()"
   ]
  },
  {
   "cell_type": "code",
   "execution_count": 61,
   "metadata": {},
   "outputs": [],
   "source": [
    "# remove every #tag \n",
    "data['text'] = data.text.str.replace(r'#\\S*', '')"
   ]
  },
  {
   "cell_type": "code",
   "execution_count": 62,
   "metadata": {},
   "outputs": [],
   "source": [
    "# remove every @username\n",
    "data['text'] = data.text.str.replace(r'@\\S*', '')"
   ]
  },
  {
   "cell_type": "code",
   "execution_count": 63,
   "metadata": {},
   "outputs": [],
   "source": [
    "# remove links\n",
    "data['text'] = data.text.str.replace(r'http(\\S)*', '')"
   ]
  },
  {
   "cell_type": "code",
   "execution_count": 64,
   "metadata": {},
   "outputs": [
    {
     "data": {
      "text/plain": [
       "0         i’m confused. is this a new “greatest” or the same as the old? all of your scandals are hard to...\n",
       "1                                                                       i'm not yet tired of winning, sir!  \n",
       "2          you are the true patriots!  if antifa physically assaults you in any way you can legally defen...\n",
       "3        it is amazing to watch  throw his reputation down the toilet. my guess  has something on him, or...\n",
       "4                                                                   whooooohooooo! i’m so excited for you!  \n",
       "5         lied about wikileaks in \\n\\nthe grand-jury redactions in special counsel  report show that pres...\n",
       "6                                                           never polled and don't know anyone that has. \\n \n",
       "7        \\n\\n needs to get off their ass and put their foot down!\\n\\ndems/antifa (same thing) crossed the...\n",
       "8                                                                                             beautiful!\\n\\n\n",
       "9                 did  mean this october? \\nmaybe  is onto something regarding this horrible excuse 👇👇👇     \n",
       "10                                                                       that’s not how it works, fatso. \\n \n",
       "11                                        trump: farmers who want me to end my trade war are 'dumb people'  \n",
       "12               duke university’s student government rejects christian organization, citing lgbt policy    \n",
       "13                                  thank you for the ride!!\\nfollowing all, please follow back, thanks :)\\n\n",
       "14                                                                                              wtf? wow!   \n",
       "15          ummm dumbo, i dont see the gop taking a line of credit like your dnc. stop supporting radical...\n",
       "16           it wouldn't make a difference who they faced if all those lazy registered  voters who didn't...\n",
       "17                                                                                          congratulations \n",
       "18                        we will never agree on this, seeing as how you've never been a leo.  and godspeed.\n",
       "19        sure flake had aspirations of becoming potus. at one time. he had the kennedyish looks. but wha...\n",
       "20        if you really understand what has happened here, trump became the real whistleblower during his...\n",
       "21                                                                            is the only way to stop this. \n",
       "22                                                                                    is still an idiot!    \n",
       "23                                                                           strong. fearless. leader. 🇺🇸   \n",
       "24           well you guys have done nothing but attack, don’t blame administration at all for not inviti...\n",
       "25        this was beautiful power tie. i actually pinned it to my timeline that's how much i like it. ve...\n",
       "26        imagine a day when a person accused does not get to meet their accuser, or even know who the ac...\n",
       "27                                                               hey    your leader has spoken about you! 😜 \n",
       "28                                                                         and the witch hunt will be over. \n",
       "29       . ⬇️  must vote red down ballot ⬇️ we must get rid of the 🐀 ⬇️  and hate america    vote red vot...\n",
       "                                                        ...                                                 \n",
       "15970    we need to start calling our representatives and tell them to cut the crap. we’re sick and tired...\n",
       "15971                                              🎵that's the way they became the shady bunch!🎵\\n\\n\\n\\n\\n\\n\n",
       "15972     hey \\neveryone, including you, knows  was parodying the call tho it was remarkably true.\\nyou'r...\n",
       "15973                     deniro words makes him sound like a mobster, but his actions seem to confirm it!  \n",
       "15974                                                                                        .    \\n\\nread: \n",
       "15975                                          what ? so this is  ? lol. clearly america bows to russia now \n",
       "15976    love it when racist  trolls like  block you for pointing out their hateful ignorance. \\n\\nso... ...\n",
       "15977    not just evangelicals. the fury felt over this fake impeachment is off the charts. they have bee...\n",
       "15978    how many  are needed?     \\n\\ntrump pressed australian leader to help barr investigate mueller i...\n",
       "15979     you're a dishonest person and a disgrace to california.  you make up lies and swear you have ev...\n",
       "15980                                                                             about damn time!!\\n❤️🇺🇸   \n",
       "15981                                               donald trump video taped  and  having sex!  just sick!  \n",
       "15982                               judicial watch - judicial watch sues for biden-ukraine scandal docs -   \n",
       "15983                                                                                best president ever!   \n",
       "15984    is the  going to report this or burry it?          hoax: girl who accused white boys of cutting ...\n",
       "15985      so brennan is now calling for his flying monkeys?..this is obviously getting too close for com...\n",
       "15986                      obama has sanitized his entire life, why? \\nonly reason is to hide his past!  ...\n",
       "15987                    damn straight  my president   \\nrt    yes, we want 4 more years of president trump!\n",
       "15988                                                              haha  is about to get locked up ... 😂    \n",
       "15989                                                                               thank you mr. president \n",
       "15990    hey \\neveryone, including you, knows  was parodying the call though it was remarkably true.\\nyou...\n",
       "15991     thank you president trump for all you're doing to fight for the people. especially the children...\n",
       "15992     .\\n\\nin   is king of the \\nand he gets his  &amp;  from people in   \\n ---&gt;  (\\n\\n\\n\\n \\n\\n ...\n",
       "15993     being reported that-mike pompeo present when trump was on phone w/ ukraine potus breaking the l...\n",
       "15994    impeaching this man is the only way to save our democracy! if you dont know it you are part of t...\n",
       "15995                                                                                         not a chance  \n",
       "15996    unhinged robert de niro explodes on live tv in obscene, vile anti-trump rant — cnn host cuts to ...\n",
       "15997                                                       i think we can all see how corrupt  people are! \n",
       "15998                 stay strong  the fl cuban deplorable’s have your back! we are the silent majority!    \n",
       "15999    ok patriots let's get the 100x votes needed. don't forget to share and go to email for verificat...\n",
       "Name: text, Length: 16000, dtype: object"
      ]
     },
     "execution_count": 64,
     "metadata": {},
     "output_type": "execute_result"
    }
   ],
   "source": [
    "data.text"
   ]
  },
  {
   "cell_type": "code",
   "execution_count": null,
   "metadata": {},
   "outputs": [],
   "source": []
  }
 ],
 "metadata": {
  "hide_input": false,
  "kernelspec": {
   "display_name": "Python 3",
   "language": "python",
   "name": "python3"
  },
  "language_info": {
   "codemirror_mode": {
    "name": "ipython",
    "version": 3
   },
   "file_extension": ".py",
   "mimetype": "text/x-python",
   "name": "python",
   "nbconvert_exporter": "python",
   "pygments_lexer": "ipython3",
   "version": "3.7.3"
  },
  "toc": {
   "base_numbering": 1,
   "nav_menu": {},
   "number_sections": true,
   "sideBar": true,
   "skip_h1_title": true,
   "title_cell": "Table of Contents",
   "title_sidebar": "Contents",
   "toc_cell": false,
   "toc_position": {},
   "toc_section_display": true,
   "toc_window_display": true
  }
 },
 "nbformat": 4,
 "nbformat_minor": 2
}
